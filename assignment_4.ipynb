{
 "cells": [
  {
   "cell_type": "code",
   "execution_count": 8,
   "id": "c040fc30",
   "metadata": {},
   "outputs": [
    {
     "data": {
      "text/plain": [
       "14.696938456699069"
      ]
     },
     "execution_count": 8,
     "metadata": {},
     "output_type": "execute_result"
    }
   ],
   "source": [
    "class Triangle:\n",
    "    def __init__(self,a,b,c):\n",
    "        self.a = a\n",
    "        self.b = b\n",
    "        self.c = c\n",
    "class cal(Triangle):\n",
    "    def area(self):\n",
    "        s=(self.a+self.b+self.c)/2\n",
    "        a = (s*(s-self.a)*(s-self.b)*(s-self.c))**0.5\n",
    "        return a\n",
    "t1=cal(5,6,7)\n",
    "t1.area()"
   ]
  },
  {
   "cell_type": "code",
   "execution_count": 9,
   "id": "0a551dd8",
   "metadata": {},
   "outputs": [
    {
     "data": {
      "text/plain": [
       "['hiiii', 'akjgfvjh']"
      ]
     },
     "execution_count": 9,
     "metadata": {},
     "output_type": "execute_result"
    }
   ],
   "source": [
    "def filter_long_word(l,n):\n",
    "    l1=[]\n",
    "    for i in l:\n",
    "        if len(i)>n:\n",
    "            l1.append(i)\n",
    "    return l1\n",
    "filter_long_word([\"hiiii\",\"akjgfvjh\",'h','h','k'],1)"
   ]
  },
  {
   "cell_type": "code",
   "execution_count": 10,
   "id": "468d7d6c",
   "metadata": {},
   "outputs": [
    {
     "data": {
      "text/plain": [
       "[5, 8, 1, 1, 1]"
      ]
     },
     "execution_count": 10,
     "metadata": {},
     "output_type": "execute_result"
    }
   ],
   "source": [
    "def len_word(l):\n",
    "    l1=[]\n",
    "    for i in l:\n",
    "        l1.append(len(i))\n",
    "    return l1\n",
    "len_word([\"hiiii\",\"akjgfvjh\",'h','h','k'])"
   ]
  },
  {
   "cell_type": "code",
   "execution_count": 15,
   "id": "74badf0c",
   "metadata": {},
   "outputs": [
    {
     "data": {
      "text/plain": [
       "False"
      ]
     },
     "execution_count": 15,
     "metadata": {},
     "output_type": "execute_result"
    }
   ],
   "source": [
    "def char_type(a):\n",
    "    l=['a','e','i','o','u']\n",
    "    if len(a) == 1:\n",
    "        if a.lower() in l:\n",
    "            return True\n",
    "        else:\n",
    "            return False\n",
    "    else:\n",
    "        return \"its not a character\"\n",
    "char_type('h')"
   ]
  },
  {
   "cell_type": "code",
   "execution_count": 12,
   "id": "d133ae37",
   "metadata": {},
   "outputs": [
    {
     "data": {
      "text/plain": [
       "'its not a character'"
      ]
     },
     "execution_count": 12,
     "metadata": {},
     "output_type": "execute_result"
    }
   ],
   "source": [
    "char_type('hii')"
   ]
  },
  {
   "cell_type": "code",
   "execution_count": null,
   "id": "880866a6",
   "metadata": {},
   "outputs": [],
   "source": []
  }
 ],
 "metadata": {
  "kernelspec": {
   "display_name": "Python 3 (ipykernel)",
   "language": "python",
   "name": "python3"
  },
  "language_info": {
   "codemirror_mode": {
    "name": "ipython",
    "version": 3
   },
   "file_extension": ".py",
   "mimetype": "text/x-python",
   "name": "python",
   "nbconvert_exporter": "python",
   "pygments_lexer": "ipython3",
   "version": "3.8.8"
  }
 },
 "nbformat": 4,
 "nbformat_minor": 5
}
